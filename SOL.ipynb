{
 "cells": [
  {
   "cell_type": "code",
   "execution_count": 6,
   "id": "d67bfc31-6eba-46a1-8ee6-d14f211435df",
   "metadata": {},
   "outputs": [
    {
     "ename": "SyntaxError",
     "evalue": "invalid syntax (828720076.py, line 5)",
     "output_type": "error",
     "traceback": [
      "\u001b[0;36m  File \u001b[0;32m\"/tmp/ipykernel_1395/828720076.py\"\u001b[0;36m, line \u001b[0;32m5\u001b[0m\n\u001b[0;31m    OPENQASM 2.0;\u001b[0m\n\u001b[0m             ^\u001b[0m\n\u001b[0;31mSyntaxError\u001b[0m\u001b[0;31m:\u001b[0m invalid syntax\n"
     ]
    }
   ],
   "source": [
    "from .solution import circuit_to_qasm\n",
    "from braket.circuits import Circuit\n",
    "circuit = Circuit().z(0).cnot(1,2).sswap(2,3).h(3)\n",
    "print(circuit)\n",
    "OPENQASM 2.0;\n",
    "include \"qelib1.inc\";\n",
    "qreg q[4];\n",
    "\n",
    "z q[0];\n",
    "cx q[1],q[2];\n",
    "h q[3];"
   ]
  },
  {
   "cell_type": "code",
   "execution_count": null,
   "id": "d3577514-7279-4dfb-9584-bebca90cd500",
   "metadata": {},
   "outputs": [],
   "source": []
  },
  {
   "cell_type": "code",
   "execution_count": null,
   "id": "2f170b97-5ce8-4cf2-80e8-d0bf2507e322",
   "metadata": {},
   "outputs": [],
   "source": []
  }
 ],
 "metadata": {
  "kernelspec": {
   "display_name": "Python 3 [Qiskit]",
   "language": "python",
   "name": "python3_qiskit_9y9siy"
  },
  "language_info": {
   "codemirror_mode": {
    "name": "ipython",
    "version": 3
   },
   "file_extension": ".py",
   "mimetype": "text/x-python",
   "name": "python",
   "nbconvert_exporter": "python",
   "pygments_lexer": "ipython3",
   "version": "3.9.7"
  }
 },
 "nbformat": 4,
 "nbformat_minor": 5
}
